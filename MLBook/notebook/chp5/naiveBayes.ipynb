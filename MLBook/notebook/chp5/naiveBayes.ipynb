{
 "cells": [
  {
   "cell_type": "code",
   "execution_count": 1,
   "metadata": {
    "ExecuteTime": {
     "end_time": "2020-09-01T08:08:22.527754Z",
     "start_time": "2020-09-01T08:08:22.519997Z"
    }
   },
   "outputs": [],
   "source": [
    "import warnings\n",
    "warnings.simplefilter('ignore')\n",
    "\n",
    "import sys, os\n",
    "sys.path.append('../../codes/')"
   ]
  },
  {
   "cell_type": "code",
   "execution_count": 2,
   "metadata": {},
   "outputs": [],
   "source": [
    "from matplotlib import rcParams\n",
    "rcParams['font.family'] = 'sans-serif'\n",
    "rcParams['font.sans-serif'] = ['Hiragino Maru Gothic Pro', 'Yu Gothic', 'Meirio', 'Takao', 'IPAexGothic', 'IPAPGothic', 'Noto Sans CJK JP']"
   ]
  },
  {
   "cell_type": "code",
   "execution_count": 3,
   "metadata": {},
   "outputs": [
    {
     "name": "stdout",
     "output_type": "stream",
     "text": [
      "学習データの正解率:0.99\n",
      "評価データの正解率:0.7\n"
     ]
    }
   ],
   "source": [
    "# -*- coding: utf-8 -*-\n",
    "import numpy as np\n",
    "import naiveBayes\n",
    "import data_jupyter as data\n",
    "\n",
    "#-------------------\n",
    "# 1. データの選択と読み込み\n",
    "myData = data.sentimentLabelling()\n",
    "myData.makeData(dataType=1)\n",
    "#-------------------\n",
    "\n",
    "#-------------------\n",
    "# 2. データを学習と評価用に分割\n",
    "dtrNum = int(len(myData.X)*0.9)  # 学習データ数\n",
    "# 学習データ（全体の90%）\n",
    "Xtr = myData.X[:dtrNum]\n",
    "Ytr = myData.Y[:dtrNum]\n",
    "\n",
    "# 評価データ（全体の10%）\n",
    "Xte = myData.X[dtrNum:]\n",
    "Yte = myData.Y[dtrNum:]\n",
    "#-------------------\n",
    "\n",
    "#-------------------\n",
    "# 3. ナイーブベイズの学習\n",
    "\n",
    "# 事前確率の設定\n",
    "priors = np.array([[0.5,0.5]])\n",
    "\n",
    "myModel = naiveBayes.naiveBayes(Xtr,Ytr,priors)\n",
    "myModel.train()\n",
    "#-------------------\n",
    "\n",
    "#-------------------\n",
    "# 4. ナイーブベイズの評価\n",
    "print(f\"学習データの正解率:{np.round(myModel.accuracy(Xtr,Ytr),decimals=2)}\")\n",
    "print(f\"評価データの正解率:{np.round(myModel.accuracy(Xte,Yte),decimals=2)}\")\n",
    "#-------------------"
   ]
  }
 ],
 "metadata": {
  "kernelspec": {
   "display_name": "Python 3",
   "language": "python",
   "name": "python3"
  },
  "language_info": {
   "codemirror_mode": {
    "name": "ipython",
    "version": 3
   },
   "file_extension": ".py",
   "mimetype": "text/x-python",
   "name": "python",
   "nbconvert_exporter": "python",
   "pygments_lexer": "ipython3",
   "version": "3.6.2"
  }
 },
 "nbformat": 4,
 "nbformat_minor": 2
}
