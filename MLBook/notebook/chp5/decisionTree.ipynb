{
 "cells": [
  {
   "cell_type": "code",
   "execution_count": 1,
   "metadata": {
    "ExecuteTime": {
     "end_time": "2020-09-01T08:08:22.527754Z",
     "start_time": "2020-09-01T08:08:22.519997Z"
    }
   },
   "outputs": [],
   "source": [
    "import warnings\n",
    "warnings.simplefilter('ignore')\n",
    "\n",
    "import sys, os\n",
    "sys.path.append('../../codes/')"
   ]
  },
  {
   "cell_type": "code",
   "execution_count": 2,
   "metadata": {},
   "outputs": [],
   "source": [
    "from matplotlib import rcParams\n",
    "rcParams['font.family'] = 'sans-serif'\n",
    "rcParams['font.sans-serif'] = ['Hiragino Maru Gothic Pro', 'Yu Gothic', 'Meirio', 'Takao', 'IPAexGothic', 'IPAPGothic', 'Noto Sans CJK JP']"
   ]
  },
  {
   "cell_type": "code",
   "execution_count": 3,
   "metadata": {},
   "outputs": [
    {
     "name": "stdout",
     "output_type": "stream",
     "text": [
      "\n",
      "発生形態x2 (0.64) = '卵生' (0.44)\n",
      "｜\n",
      "＋― 体温x3 (0.44) = '変温' (0.0) --> 爬虫類\n",
      "｜\n",
      "＋― 体温x3 (0.44) = '恒温' (0.0) --> 鳥類\n",
      "｜\n",
      "発生形態x2 (0.64) = '胎生' (0.0) --> 哺乳類\n"
     ]
    }
   ],
   "source": [
    "# -*- coding: utf-8 -*-\n",
    "import numpy as np\n",
    "import decisionTree as dt\n",
    "import data_jupyter as data\n",
    "\n",
    "#-------------------\n",
    "# 1. データの作成\n",
    "myData = data.decisionTree()\n",
    "myData.makeData(dataType=2)\n",
    "#-------------------\n",
    "\n",
    "#-------------------\n",
    "# 2. 決定木の作成（version=1: ID3,version=2: CART）\n",
    "myModel = dt.decisionTree(myData.Xtr,myData.Ytr,version=2)\n",
    "myModel.train()\n",
    "#-------------------"
   ]
  }
 ],
 "metadata": {
  "kernelspec": {
   "display_name": "Python 3",
   "language": "python",
   "name": "python3"
  },
  "language_info": {
   "codemirror_mode": {
    "name": "ipython",
    "version": 3
   },
   "file_extension": ".py",
   "mimetype": "text/x-python",
   "name": "python",
   "nbconvert_exporter": "python",
   "pygments_lexer": "ipython3",
   "version": "3.6.2"
  }
 },
 "nbformat": 4,
 "nbformat_minor": 2
}
